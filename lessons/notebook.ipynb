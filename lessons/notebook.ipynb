{
 "cells": [
  {
   "cell_type": "markdown",
   "metadata": {},
   "source": [
    "# Demo jupyter Notebook\n",
    "\n",
    "This notebook will exemplify **some** of the common use cases in python jupyter Notebooks."
   ]
  },
  {
   "cell_type": "code",
   "execution_count": null,
   "metadata": {},
   "outputs": [],
   "source": [
    "name: str =\"kris\"\n",
    "print(f\"Hello, {name}\")"
   ]
  }
 ],
 "metadata": {
  "interpreter": {
   "hash": "257c42f0b0a7583729bbbb5f0643fcbf57a72a23be3a091b381722747b5e24b9"
  },
  "kernelspec": {
   "display_name": "Python 3.9.7 64-bit (windows store)",
   "name": "python3"
  },
  "language_info": {
   "name": "python",
   "version": "3.9.7"
  },
  "orig_nbformat": 4
 },
 "nbformat": 4,
 "nbformat_minor": 2
}
